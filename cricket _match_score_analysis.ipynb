{
 "cells": [
  {
   "cell_type": "code",
   "execution_count": 3,
   "id": "aaa1b98a-2f1f-453a-8a6e-1c5a21d2e253",
   "metadata": {},
   "outputs": [],
   "source": [
    "import pandas as pd "
   ]
  },
  {
   "cell_type": "code",
   "execution_count": 15,
   "id": "6395bf50-11be-4409-bfb9-1f543bacb2e7",
   "metadata": {},
   "outputs": [],
   "source": [
    "data = {\n",
    "    'Player' : ['Rohit Sharma', 'KL Rahul', 'Virat Kohli', 'Suryakumar yadav', 'Hardik Pandaya', 'MS Dhoni' , ' Ravindra Jadeja' , 'Bhuvneshwar Kumar' , 'Jasprit Bumrah', 'Yujverdra Chahal', 'Mohammed Shami' ],\n",
    "    'Runs' : [ 45, 62, 38, 75, 25, 50, 15, 10, 0, 5, 0 ],\n",
    "    'Wickets' : [ 0, 0, 0, 0, 1,  0, 2, 3, 1, 2, 4],\n",
    "    'Balls Faced' : [ 30, 50, 42, 55, 20, 45, 12, 8, 2, 4, 1 ],\n",
    "    'Balls Bowled' : [ 0, 0, 0, 0, 4, 0, 10, 10, 10, 10, 10 ],\n",
    "    # 'Batting Average' : [0,0,0,0,0,0,0,0,0,0,0]\n",
    "}\n",
    "\n",
    "match_data = pd.DataFrame(data)"
   ]
  },
  {
   "cell_type": "code",
   "execution_count": 16,
   "id": "6c5b2d88-1d11-430f-b0f5-2502f0fb9e90",
   "metadata": {},
   "outputs": [
    {
     "name": "stdout",
     "output_type": "stream",
     "text": [
      "Tota1 Runs:  325\n"
     ]
    }
   ],
   "source": [
    "total_runs = match_data[ 'Runs' ] .sum() \n",
    "print(\"Tota1 Runs: \" , total_runs)"
   ]
  },
  {
   "cell_type": "code",
   "execution_count": 17,
   "id": "ed533e0e-c916-476f-8313-ca8b89cb04b4",
   "metadata": {},
   "outputs": [
    {
     "name": "stdout",
     "output_type": "stream",
     "text": [
      "\n",
      "Batting Averages:\n",
      "                Player  Batting Average\n",
      "0        Rohit Sharma        -3.000000\n",
      "1            KL Rahul        -5.166667\n",
      "2         Virat Kohli         9.500000\n",
      "3    Suryakumar yadav        -3.750000\n",
      "4      Hardik Pandaya        -5.000000\n",
      "5            MS Dhoni       -10.000000\n",
      "6     Ravindra Jadeja        -5.000000\n",
      "7   Bhuvneshwar Kumar        -5.000000\n",
      "8      Jasprit Bumrah         0.000000\n",
      "9    Yujverdra Chahal        -5.000000\n",
      "10     Mohammed Shami         0.000000\n"
     ]
    }
   ],
   "source": [
    "match_data[ 'Batting Average' ] = match_data[ 'Runs' ] /  (match_data[ 'Balls Faced' ] - match_data[ 'Runs' ] ) \n",
    "print(\"\\nBatting Averages:\\n\", match_data[[ 'Player' , 'Batting Average' ] ] )"
   ]
  },
  {
   "cell_type": "code",
   "execution_count": 19,
   "id": "23127d4c-0927-4162-88d1-f8b285a10ed0",
   "metadata": {},
   "outputs": [
    {
     "name": "stdout",
     "output_type": "stream",
     "text": [
      "\n",
      "Bow1ing Strike Rates:\n",
      "                Player  Bowling Strike Rate\n",
      "4      Hardik Pandaya             4.000000\n",
      "6     Ravindra Jadeja             5.000000\n",
      "7   Bhuvneshwar Kumar             3.333333\n",
      "8      Jasprit Bumrah            10.000000\n",
      "9    Yujverdra Chahal             5.000000\n",
      "10     Mohammed Shami             2.500000\n"
     ]
    },
    {
     "name": "stderr",
     "output_type": "stream",
     "text": [
      "C:\\Users\\Nikhil Sharma\\AppData\\Local\\Temp\\ipykernel_6020\\1288383560.py:2: SettingWithCopyWarning: \n",
      "A value is trying to be set on a copy of a slice from a DataFrame.\n",
      "Try using .loc[row_indexer,col_indexer] = value instead\n",
      "\n",
      "See the caveats in the documentation: https://pandas.pydata.org/pandas-docs/stable/user_guide/indexing.html#returning-a-view-versus-a-copy\n",
      "  bowlers [ 'Bowling Strike Rate' ] = bowlers[ 'Balls Bowled' ] / bowlers [ 'Wickets' ]\n"
     ]
    }
   ],
   "source": [
    "bowlers = match_data[ match_data[ 'Balls Bowled' ] > 0 ] \n",
    "bowlers [ 'Bowling Strike Rate' ] = bowlers[ 'Balls Bowled' ] / bowlers [ 'Wickets' ] \n",
    "print(\"\\nBow1ing Strike Rates:\\n\", bowlers[[ 'Player' , 'Bowling Strike Rate' ] ] )"
   ]
  },
  {
   "cell_type": "code",
   "execution_count": 22,
   "id": "632ca0c5-7c7d-4857-aabe-05457f175122",
   "metadata": {},
   "outputs": [
    {
     "name": "stdout",
     "output_type": "stream",
     "text": [
      "\n",
      "Top Run-scorer:  Suryakumar yadav\n"
     ]
    }
   ],
   "source": [
    "top_scorer = match_data.loc[ match_data[ 'Runs' ].idxmax(), 'Player' ]\n",
    "print(\"\\nTop Run-scorer: \", top_scorer)"
   ]
  },
  {
   "cell_type": "code",
   "execution_count": 23,
   "id": "98d4bf3c-d89a-43b4-9e54-d95361aec0a9",
   "metadata": {},
   "outputs": [
    {
     "name": "stdout",
     "output_type": "stream",
     "text": [
      "\n",
      "Top Wicket-taker:  Mohammed Shami\n"
     ]
    }
   ],
   "source": [
    "top_wicket_taker = match_data.loc[ bowlers[ 'Wickets' ].idxmax(), 'Player' ]\n",
    "print(\"\\nTop Wicket-taker: \", top_wicket_taker)"
   ]
  },
  {
   "cell_type": "code",
   "execution_count": 26,
   "id": "5a19921d-9008-45cb-8af8-b14ee64133e1",
   "metadata": {},
   "outputs": [
    {
     "name": "stdout",
     "output_type": "stream",
     "text": [
      "\n",
      "Player Points: \n",
      "                Player  Points\n",
      "0        Rohit Sharma       4\n",
      "1            KL Rahul       6\n",
      "2         Virat Kohli       3\n",
      "3    Suryakumar yadav       7\n",
      "4      Hardik Pandaya      22\n",
      "5            MS Dhoni       5\n",
      "6     Ravindra Jadeja      41\n",
      "7   Bhuvneshwar Kumar      61\n",
      "8      Jasprit Bumrah      20\n",
      "9    Yujverdra Chahal      40\n",
      "10     Mohammed Shami      80\n"
     ]
    }
   ],
   "source": [
    "match_data[ 'Points' ] = (match_data[ 'Runs' ] // 10) + (match_data[ 'Wickets' ] *20)\n",
    "print(\"\\nPlayer Points: \\n\", match_data[[ 'Player', 'Points']])"
   ]
  },
  {
   "cell_type": "code",
   "execution_count": null,
   "id": "5769699a-9f1e-4963-9733-cad033506ad7",
   "metadata": {},
   "outputs": [],
   "source": []
  }
 ],
 "metadata": {
  "kernelspec": {
   "display_name": "Python 3 (ipykernel)",
   "language": "python",
   "name": "python3"
  },
  "language_info": {
   "codemirror_mode": {
    "name": "ipython",
    "version": 3
   },
   "file_extension": ".py",
   "mimetype": "text/x-python",
   "name": "python",
   "nbconvert_exporter": "python",
   "pygments_lexer": "ipython3",
   "version": "3.12.4"
  }
 },
 "nbformat": 4,
 "nbformat_minor": 5
}
